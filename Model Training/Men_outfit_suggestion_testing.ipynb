{
 "cells": [
  {
   "cell_type": "code",
   "execution_count": 1,
   "metadata": {},
   "outputs": [],
   "source": [
    "import pandas as pd"
   ]
  },
  {
   "cell_type": "code",
   "execution_count": 3,
   "metadata": {},
   "outputs": [],
   "source": [
    "import numpy as np\n",
    "similarity=similarity = np.load('similarity_matrix.npy')"
   ]
  },
  {
   "cell_type": "code",
   "execution_count": 4,
   "metadata": {},
   "outputs": [],
   "source": [
    "df=pd.read_csv(\"Ajio_Men_Clothing_Updated.csv\")\n",
    "def recommend(outfit):\n",
    "    outfit_indices = df[df['Id_Product'] == outfit].index\n",
    "\n",
    "    # If outfit is not found, print a message and return\n",
    "    if outfit_indices.empty:\n",
    "        print(f\"Outfit with Id_Product '{outfit}' not found.\")\n",
    "        return\n",
    "\n",
    "    # Get the first index of the outfit\n",
    "    outfit_index = outfit_indices[0]\n",
    "    \n",
    "    # Calculate the distances\n",
    "    distances = similarity[outfit_index]\n",
    "\n",
    "    # Get a list of tuples (index, distance), sorted by distance in descending order\n",
    "    outfits_list = sorted(list(enumerate(distances)), reverse=True, key=lambda x: x[1])[1:70]\n",
    "\n",
    "    # Print the recommended outfit indices\n",
    "    for i in outfits_list:\n",
    "        print(df.iloc[i[0]].Id_Product)\n"
   ]
  },
  {
   "cell_type": "code",
   "execution_count": 5,
   "metadata": {},
   "outputs": [
    {
     "name": "stdout",
     "output_type": "stream",
     "text": [
      "441114668001\n",
      "441128325006\n",
      "441137355005\n",
      "441137364025\n",
      "441024764004\n",
      "441120096001\n",
      "441113170001\n",
      "441117495007\n",
      "441135711005\n",
      "441120431010\n",
      "441125682001\n",
      "441120429010\n",
      "441125682006\n",
      "441118434001\n",
      "441137067015\n",
      "441114668006\n",
      "441118335004\n",
      "441128325013\n",
      "441118353002\n",
      "441137366010\n",
      "441136043004\n",
      "441024764042\n",
      "441137365015\n",
      "441024764024\n",
      "441124240001\n",
      "441136043016\n",
      "460849982002\n",
      "441115601001\n",
      "464281459004\n",
      "463543030003\n",
      "463731625001\n",
      "460996019003\n",
      "460899186004\n",
      "441120068023\n",
      "463731622006\n",
      "460793091002\n",
      "441135713013\n",
      "464301895010\n",
      "463731614005\n",
      "464281458003\n",
      "441137371008\n",
      "460968030003\n",
      "463731628006\n",
      "463731631006\n",
      "460582759002\n",
      "469080226004\n",
      "441120433006\n",
      "441126461011\n",
      "441134733019\n",
      "441134734005\n",
      "441137364003\n",
      "441128327005\n",
      "441127190003\n",
      "441120432001\n",
      "469080334005\n",
      "441134730005\n",
      "441126569006\n",
      "441024764010\n",
      "441137356001\n",
      "441024764028\n",
      "441024764055\n",
      "441024764036\n",
      "441024764049\n",
      "461561319003\n",
      "441136044004\n",
      "441137367006\n",
      "441135322006\n",
      "441136044019\n",
      "441137360007\n"
     ]
    },
    {
     "ename": "",
     "evalue": "",
     "output_type": "error",
     "traceback": [
      "\u001b[1;31mThe Kernel crashed while executing code in the current cell or a previous cell. \n",
      "\u001b[1;31mPlease review the code in the cell(s) to identify a possible cause of the failure. \n",
      "\u001b[1;31mClick <a href='https://aka.ms/vscodeJupyterKernelCrash'>here</a> for more info. \n",
      "\u001b[1;31mView Jupyter <a href='command:jupyter.viewOutput'>log</a> for further details."
     ]
    }
   ],
   "source": [
    "recommend(441137362002)"
   ]
  }
 ],
 "metadata": {
  "kernelspec": {
   "display_name": "Python 3",
   "language": "python",
   "name": "python3"
  },
  "language_info": {
   "codemirror_mode": {
    "name": "ipython",
    "version": 3
   },
   "file_extension": ".py",
   "mimetype": "text/x-python",
   "name": "python",
   "nbconvert_exporter": "python",
   "pygments_lexer": "ipython3",
   "version": "3.12.4"
  }
 },
 "nbformat": 4,
 "nbformat_minor": 2
}
