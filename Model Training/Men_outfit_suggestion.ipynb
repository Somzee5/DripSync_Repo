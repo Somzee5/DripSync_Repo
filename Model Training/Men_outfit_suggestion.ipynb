{
 "cells": [
  {
   "cell_type": "code",
   "execution_count": 1,
   "metadata": {},
   "outputs": [],
   "source": [
    "import numpy as np\n",
    "import pandas as pd"
   ]
  },
  {
   "cell_type": "code",
   "execution_count": 19,
   "metadata": {},
   "outputs": [],
   "source": [
    "outfits = pd.read_csv('Ajio_Men_Clothing_Updated.csv')"
   ]
  },
  {
   "cell_type": "code",
   "execution_count": 20,
   "metadata": {},
   "outputs": [
    {
     "data": {
      "text/html": [
       "<div>\n",
       "<style scoped>\n",
       "    .dataframe tbody tr th:only-of-type {\n",
       "        vertical-align: middle;\n",
       "    }\n",
       "\n",
       "    .dataframe tbody tr th {\n",
       "        vertical-align: top;\n",
       "    }\n",
       "\n",
       "    .dataframe thead th {\n",
       "        text-align: right;\n",
       "    }\n",
       "</style>\n",
       "<table border=\"1\" class=\"dataframe\">\n",
       "  <thead>\n",
       "    <tr style=\"text-align: right;\">\n",
       "      <th></th>\n",
       "      <th>Id_Product</th>\n",
       "      <th>Brand</th>\n",
       "      <th>Description</th>\n",
       "      <th>Color</th>\n",
       "      <th>Category</th>\n",
       "    </tr>\n",
       "  </thead>\n",
       "  <tbody>\n",
       "    <tr>\n",
       "      <th>0</th>\n",
       "      <td>441137362002</td>\n",
       "      <td>netplay</td>\n",
       "      <td>Checked Polo T-shirt</td>\n",
       "      <td>white</td>\n",
       "      <td>Polo T-shirt</td>\n",
       "    </tr>\n",
       "    <tr>\n",
       "      <th>1</th>\n",
       "      <td>441124497006</td>\n",
       "      <td>netplay</td>\n",
       "      <td>Tapered Fit Flat-Front Trousers</td>\n",
       "      <td>navy</td>\n",
       "      <td>Trousers</td>\n",
       "    </tr>\n",
       "    <tr>\n",
       "      <th>2</th>\n",
       "      <td>460453612003</td>\n",
       "      <td>the-indian-garage-co</td>\n",
       "      <td>Striped Slim Fit Shirt with Patch Pocket</td>\n",
       "      <td>white</td>\n",
       "      <td>Slim Fit Shirt</td>\n",
       "    </tr>\n",
       "    <tr>\n",
       "      <th>3</th>\n",
       "      <td>441036730003</td>\n",
       "      <td>performax</td>\n",
       "      <td>Heathered Crew-Neck T-shirt</td>\n",
       "      <td>charcoal</td>\n",
       "      <td>T-shirt</td>\n",
       "    </tr>\n",
       "    <tr>\n",
       "      <th>4</th>\n",
       "      <td>441128531011</td>\n",
       "      <td>john-players-jeans</td>\n",
       "      <td>Washed Skinny Fit Jeans with Whiskers</td>\n",
       "      <td>jetblack</td>\n",
       "      <td>Jeans</td>\n",
       "    </tr>\n",
       "  </tbody>\n",
       "</table>\n",
       "</div>"
      ],
      "text/plain": [
       "     Id_Product                 Brand  \\\n",
       "0  441137362002               netplay   \n",
       "1  441124497006               netplay   \n",
       "2  460453612003  the-indian-garage-co   \n",
       "3  441036730003             performax   \n",
       "4  441128531011    john-players-jeans   \n",
       "\n",
       "                                Description     Color        Category  \n",
       "0                      Checked Polo T-shirt     white    Polo T-shirt  \n",
       "1           Tapered Fit Flat-Front Trousers      navy        Trousers  \n",
       "2  Striped Slim Fit Shirt with Patch Pocket     white  Slim Fit Shirt  \n",
       "3               Heathered Crew-Neck T-shirt  charcoal         T-shirt  \n",
       "4     Washed Skinny Fit Jeans with Whiskers  jetblack           Jeans  "
      ]
     },
     "execution_count": 20,
     "metadata": {},
     "output_type": "execute_result"
    }
   ],
   "source": [
    "# Brand Description Id_Product Color\n",
    "outfits = outfits[['Id_Product', 'Brand', 'Description', 'Color', 'Category']]\n",
    "\n",
    "outfits.head()"
   ]
  },
  {
   "cell_type": "code",
   "execution_count": 21,
   "metadata": {},
   "outputs": [],
   "source": [
    "outfits['Description'] = outfits['Description'].apply(lambda x:x.split())\n"
   ]
  },
  {
   "cell_type": "code",
   "execution_count": 22,
   "metadata": {},
   "outputs": [
    {
     "data": {
      "text/html": [
       "<div>\n",
       "<style scoped>\n",
       "    .dataframe tbody tr th:only-of-type {\n",
       "        vertical-align: middle;\n",
       "    }\n",
       "\n",
       "    .dataframe tbody tr th {\n",
       "        vertical-align: top;\n",
       "    }\n",
       "\n",
       "    .dataframe thead th {\n",
       "        text-align: right;\n",
       "    }\n",
       "</style>\n",
       "<table border=\"1\" class=\"dataframe\">\n",
       "  <thead>\n",
       "    <tr style=\"text-align: right;\">\n",
       "      <th></th>\n",
       "      <th>Id_Product</th>\n",
       "      <th>Brand</th>\n",
       "      <th>Description</th>\n",
       "      <th>Color</th>\n",
       "      <th>Category</th>\n",
       "    </tr>\n",
       "  </thead>\n",
       "  <tbody>\n",
       "    <tr>\n",
       "      <th>0</th>\n",
       "      <td>441137362002</td>\n",
       "      <td>netplay</td>\n",
       "      <td>[Checked, Polo, T-shirt]</td>\n",
       "      <td>white</td>\n",
       "      <td>Polo T-shirt</td>\n",
       "    </tr>\n",
       "    <tr>\n",
       "      <th>1</th>\n",
       "      <td>441124497006</td>\n",
       "      <td>netplay</td>\n",
       "      <td>[Tapered, Fit, Flat-Front, Trousers]</td>\n",
       "      <td>navy</td>\n",
       "      <td>Trousers</td>\n",
       "    </tr>\n",
       "    <tr>\n",
       "      <th>2</th>\n",
       "      <td>460453612003</td>\n",
       "      <td>the-indian-garage-co</td>\n",
       "      <td>[Striped, Slim, Fit, Shirt, with, Patch, Pocket]</td>\n",
       "      <td>white</td>\n",
       "      <td>Slim Fit Shirt</td>\n",
       "    </tr>\n",
       "    <tr>\n",
       "      <th>3</th>\n",
       "      <td>441036730003</td>\n",
       "      <td>performax</td>\n",
       "      <td>[Heathered, Crew-Neck, T-shirt]</td>\n",
       "      <td>charcoal</td>\n",
       "      <td>T-shirt</td>\n",
       "    </tr>\n",
       "    <tr>\n",
       "      <th>4</th>\n",
       "      <td>441128531011</td>\n",
       "      <td>john-players-jeans</td>\n",
       "      <td>[Washed, Skinny, Fit, Jeans, with, Whiskers]</td>\n",
       "      <td>jetblack</td>\n",
       "      <td>Jeans</td>\n",
       "    </tr>\n",
       "  </tbody>\n",
       "</table>\n",
       "</div>"
      ],
      "text/plain": [
       "     Id_Product                 Brand  \\\n",
       "0  441137362002               netplay   \n",
       "1  441124497006               netplay   \n",
       "2  460453612003  the-indian-garage-co   \n",
       "3  441036730003             performax   \n",
       "4  441128531011    john-players-jeans   \n",
       "\n",
       "                                        Description     Color        Category  \n",
       "0                          [Checked, Polo, T-shirt]     white    Polo T-shirt  \n",
       "1              [Tapered, Fit, Flat-Front, Trousers]      navy        Trousers  \n",
       "2  [Striped, Slim, Fit, Shirt, with, Patch, Pocket]     white  Slim Fit Shirt  \n",
       "3                   [Heathered, Crew-Neck, T-shirt]  charcoal         T-shirt  \n",
       "4      [Washed, Skinny, Fit, Jeans, with, Whiskers]  jetblack           Jeans  "
      ]
     },
     "execution_count": 22,
     "metadata": {},
     "output_type": "execute_result"
    }
   ],
   "source": [
    "outfits.head()"
   ]
  },
  {
   "cell_type": "code",
   "execution_count": 23,
   "metadata": {},
   "outputs": [
    {
     "name": "stdout",
     "output_type": "stream",
     "text": [
      "<class 'pandas.core.frame.DataFrame'>\n",
      "RangeIndex: 18919 entries, 0 to 18918\n",
      "Data columns (total 5 columns):\n",
      " #   Column       Non-Null Count  Dtype \n",
      "---  ------       --------------  ----- \n",
      " 0   Id_Product   18919 non-null  int64 \n",
      " 1   Brand        18919 non-null  object\n",
      " 2   Description  18919 non-null  object\n",
      " 3   Color        18919 non-null  object\n",
      " 4   Category     18919 non-null  object\n",
      "dtypes: int64(1), object(4)\n",
      "memory usage: 739.2+ KB\n"
     ]
    }
   ],
   "source": [
    "outfits.info()"
   ]
  },
  {
   "cell_type": "code",
   "execution_count": 24,
   "metadata": {},
   "outputs": [],
   "source": [
    "outfits['Category'] = outfits['Category'].apply(lambda x: x.replace(\" \", \"\"))\n"
   ]
  },
  {
   "cell_type": "code",
   "execution_count": 25,
   "metadata": {},
   "outputs": [
    {
     "data": {
      "text/html": [
       "<div>\n",
       "<style scoped>\n",
       "    .dataframe tbody tr th:only-of-type {\n",
       "        vertical-align: middle;\n",
       "    }\n",
       "\n",
       "    .dataframe tbody tr th {\n",
       "        vertical-align: top;\n",
       "    }\n",
       "\n",
       "    .dataframe thead th {\n",
       "        text-align: right;\n",
       "    }\n",
       "</style>\n",
       "<table border=\"1\" class=\"dataframe\">\n",
       "  <thead>\n",
       "    <tr style=\"text-align: right;\">\n",
       "      <th></th>\n",
       "      <th>Id_Product</th>\n",
       "      <th>Brand</th>\n",
       "      <th>Description</th>\n",
       "      <th>Color</th>\n",
       "      <th>Category</th>\n",
       "    </tr>\n",
       "  </thead>\n",
       "  <tbody>\n",
       "    <tr>\n",
       "      <th>0</th>\n",
       "      <td>441137362002</td>\n",
       "      <td>netplay</td>\n",
       "      <td>[Checked, Polo, T-shirt]</td>\n",
       "      <td>white</td>\n",
       "      <td>PoloT-shirt</td>\n",
       "    </tr>\n",
       "    <tr>\n",
       "      <th>1</th>\n",
       "      <td>441124497006</td>\n",
       "      <td>netplay</td>\n",
       "      <td>[Tapered, Fit, Flat-Front, Trousers]</td>\n",
       "      <td>navy</td>\n",
       "      <td>Trousers</td>\n",
       "    </tr>\n",
       "    <tr>\n",
       "      <th>2</th>\n",
       "      <td>460453612003</td>\n",
       "      <td>the-indian-garage-co</td>\n",
       "      <td>[Striped, Slim, Fit, Shirt, with, Patch, Pocket]</td>\n",
       "      <td>white</td>\n",
       "      <td>SlimFitShirt</td>\n",
       "    </tr>\n",
       "    <tr>\n",
       "      <th>3</th>\n",
       "      <td>441036730003</td>\n",
       "      <td>performax</td>\n",
       "      <td>[Heathered, Crew-Neck, T-shirt]</td>\n",
       "      <td>charcoal</td>\n",
       "      <td>T-shirt</td>\n",
       "    </tr>\n",
       "    <tr>\n",
       "      <th>4</th>\n",
       "      <td>441128531011</td>\n",
       "      <td>john-players-jeans</td>\n",
       "      <td>[Washed, Skinny, Fit, Jeans, with, Whiskers]</td>\n",
       "      <td>jetblack</td>\n",
       "      <td>Jeans</td>\n",
       "    </tr>\n",
       "  </tbody>\n",
       "</table>\n",
       "</div>"
      ],
      "text/plain": [
       "     Id_Product                 Brand  \\\n",
       "0  441137362002               netplay   \n",
       "1  441124497006               netplay   \n",
       "2  460453612003  the-indian-garage-co   \n",
       "3  441036730003             performax   \n",
       "4  441128531011    john-players-jeans   \n",
       "\n",
       "                                        Description     Color      Category  \n",
       "0                          [Checked, Polo, T-shirt]     white   PoloT-shirt  \n",
       "1              [Tapered, Fit, Flat-Front, Trousers]      navy      Trousers  \n",
       "2  [Striped, Slim, Fit, Shirt, with, Patch, Pocket]     white  SlimFitShirt  \n",
       "3                   [Heathered, Crew-Neck, T-shirt]  charcoal       T-shirt  \n",
       "4      [Washed, Skinny, Fit, Jeans, with, Whiskers]  jetblack         Jeans  "
      ]
     },
     "execution_count": 25,
     "metadata": {},
     "output_type": "execute_result"
    }
   ],
   "source": [
    "outfits.head()"
   ]
  },
  {
   "cell_type": "code",
   "execution_count": 18,
   "metadata": {},
   "outputs": [
    {
     "data": {
      "text/plain": [
       "0           [Polo, T-shirt]\n",
       "1                [Trousers]\n",
       "2        [Slim, Fit, Shirt]\n",
       "3                 [T-shirt]\n",
       "4                   [Jeans]\n",
       "                ...        \n",
       "18914    [Slim, Fit, Shirt]\n",
       "18915    [Slim, Fit, Shirt]\n",
       "18916    [Printed, T-shirt]\n",
       "18917    [Printed, T-shirt]\n",
       "18918             [Joggers]\n",
       "Name: Category, Length: 18919, dtype: object"
      ]
     },
     "execution_count": 18,
     "metadata": {},
     "output_type": "execute_result"
    }
   ],
   "source": [
    "outfits['Category'].apply(lambda x:[i.replace(\" \",\"\") for i in x])"
   ]
  },
  {
   "cell_type": "code",
   "execution_count": 29,
   "metadata": {},
   "outputs": [],
   "source": [
    "outfits['tags'] = outfits.apply(lambda row: [row['Brand']] + row['Description'] + [row['Color']] + [row['Category']], axis=1)\n"
   ]
  },
  {
   "cell_type": "code",
   "execution_count": 30,
   "metadata": {},
   "outputs": [
    {
     "data": {
      "text/html": [
       "<div>\n",
       "<style scoped>\n",
       "    .dataframe tbody tr th:only-of-type {\n",
       "        vertical-align: middle;\n",
       "    }\n",
       "\n",
       "    .dataframe tbody tr th {\n",
       "        vertical-align: top;\n",
       "    }\n",
       "\n",
       "    .dataframe thead th {\n",
       "        text-align: right;\n",
       "    }\n",
       "</style>\n",
       "<table border=\"1\" class=\"dataframe\">\n",
       "  <thead>\n",
       "    <tr style=\"text-align: right;\">\n",
       "      <th></th>\n",
       "      <th>Id_Product</th>\n",
       "      <th>Brand</th>\n",
       "      <th>Description</th>\n",
       "      <th>Color</th>\n",
       "      <th>Category</th>\n",
       "      <th>tags</th>\n",
       "    </tr>\n",
       "  </thead>\n",
       "  <tbody>\n",
       "    <tr>\n",
       "      <th>0</th>\n",
       "      <td>441137362002</td>\n",
       "      <td>netplay</td>\n",
       "      <td>[Checked, Polo, T-shirt]</td>\n",
       "      <td>white</td>\n",
       "      <td>PoloT-shirt</td>\n",
       "      <td>[netplay, Checked, Polo, T-shirt, white, PoloT...</td>\n",
       "    </tr>\n",
       "    <tr>\n",
       "      <th>1</th>\n",
       "      <td>441124497006</td>\n",
       "      <td>netplay</td>\n",
       "      <td>[Tapered, Fit, Flat-Front, Trousers]</td>\n",
       "      <td>navy</td>\n",
       "      <td>Trousers</td>\n",
       "      <td>[netplay, Tapered, Fit, Flat-Front, Trousers, ...</td>\n",
       "    </tr>\n",
       "    <tr>\n",
       "      <th>2</th>\n",
       "      <td>460453612003</td>\n",
       "      <td>the-indian-garage-co</td>\n",
       "      <td>[Striped, Slim, Fit, Shirt, with, Patch, Pocket]</td>\n",
       "      <td>white</td>\n",
       "      <td>SlimFitShirt</td>\n",
       "      <td>[the-indian-garage-co, Striped, Slim, Fit, Shi...</td>\n",
       "    </tr>\n",
       "    <tr>\n",
       "      <th>3</th>\n",
       "      <td>441036730003</td>\n",
       "      <td>performax</td>\n",
       "      <td>[Heathered, Crew-Neck, T-shirt]</td>\n",
       "      <td>charcoal</td>\n",
       "      <td>T-shirt</td>\n",
       "      <td>[performax, Heathered, Crew-Neck, T-shirt, cha...</td>\n",
       "    </tr>\n",
       "    <tr>\n",
       "      <th>4</th>\n",
       "      <td>441128531011</td>\n",
       "      <td>john-players-jeans</td>\n",
       "      <td>[Washed, Skinny, Fit, Jeans, with, Whiskers]</td>\n",
       "      <td>jetblack</td>\n",
       "      <td>Jeans</td>\n",
       "      <td>[john-players-jeans, Washed, Skinny, Fit, Jean...</td>\n",
       "    </tr>\n",
       "  </tbody>\n",
       "</table>\n",
       "</div>"
      ],
      "text/plain": [
       "     Id_Product                 Brand  \\\n",
       "0  441137362002               netplay   \n",
       "1  441124497006               netplay   \n",
       "2  460453612003  the-indian-garage-co   \n",
       "3  441036730003             performax   \n",
       "4  441128531011    john-players-jeans   \n",
       "\n",
       "                                        Description     Color      Category  \\\n",
       "0                          [Checked, Polo, T-shirt]     white   PoloT-shirt   \n",
       "1              [Tapered, Fit, Flat-Front, Trousers]      navy      Trousers   \n",
       "2  [Striped, Slim, Fit, Shirt, with, Patch, Pocket]     white  SlimFitShirt   \n",
       "3                   [Heathered, Crew-Neck, T-shirt]  charcoal       T-shirt   \n",
       "4      [Washed, Skinny, Fit, Jeans, with, Whiskers]  jetblack         Jeans   \n",
       "\n",
       "                                                tags  \n",
       "0  [netplay, Checked, Polo, T-shirt, white, PoloT...  \n",
       "1  [netplay, Tapered, Fit, Flat-Front, Trousers, ...  \n",
       "2  [the-indian-garage-co, Striped, Slim, Fit, Shi...  \n",
       "3  [performax, Heathered, Crew-Neck, T-shirt, cha...  \n",
       "4  [john-players-jeans, Washed, Skinny, Fit, Jean...  "
      ]
     },
     "execution_count": 30,
     "metadata": {},
     "output_type": "execute_result"
    }
   ],
   "source": [
    "outfits.head()"
   ]
  },
  {
   "cell_type": "code",
   "execution_count": 31,
   "metadata": {},
   "outputs": [],
   "source": [
    "df = outfits[['Id_Product', 'tags']]"
   ]
  },
  {
   "cell_type": "code",
   "execution_count": 32,
   "metadata": {},
   "outputs": [
    {
     "data": {
      "text/html": [
       "<div>\n",
       "<style scoped>\n",
       "    .dataframe tbody tr th:only-of-type {\n",
       "        vertical-align: middle;\n",
       "    }\n",
       "\n",
       "    .dataframe tbody tr th {\n",
       "        vertical-align: top;\n",
       "    }\n",
       "\n",
       "    .dataframe thead th {\n",
       "        text-align: right;\n",
       "    }\n",
       "</style>\n",
       "<table border=\"1\" class=\"dataframe\">\n",
       "  <thead>\n",
       "    <tr style=\"text-align: right;\">\n",
       "      <th></th>\n",
       "      <th>Id_Product</th>\n",
       "      <th>tags</th>\n",
       "    </tr>\n",
       "  </thead>\n",
       "  <tbody>\n",
       "    <tr>\n",
       "      <th>0</th>\n",
       "      <td>441137362002</td>\n",
       "      <td>[netplay, Checked, Polo, T-shirt, white, PoloT...</td>\n",
       "    </tr>\n",
       "    <tr>\n",
       "      <th>1</th>\n",
       "      <td>441124497006</td>\n",
       "      <td>[netplay, Tapered, Fit, Flat-Front, Trousers, ...</td>\n",
       "    </tr>\n",
       "    <tr>\n",
       "      <th>2</th>\n",
       "      <td>460453612003</td>\n",
       "      <td>[the-indian-garage-co, Striped, Slim, Fit, Shi...</td>\n",
       "    </tr>\n",
       "    <tr>\n",
       "      <th>3</th>\n",
       "      <td>441036730003</td>\n",
       "      <td>[performax, Heathered, Crew-Neck, T-shirt, cha...</td>\n",
       "    </tr>\n",
       "    <tr>\n",
       "      <th>4</th>\n",
       "      <td>441128531011</td>\n",
       "      <td>[john-players-jeans, Washed, Skinny, Fit, Jean...</td>\n",
       "    </tr>\n",
       "  </tbody>\n",
       "</table>\n",
       "</div>"
      ],
      "text/plain": [
       "     Id_Product                                               tags\n",
       "0  441137362002  [netplay, Checked, Polo, T-shirt, white, PoloT...\n",
       "1  441124497006  [netplay, Tapered, Fit, Flat-Front, Trousers, ...\n",
       "2  460453612003  [the-indian-garage-co, Striped, Slim, Fit, Shi...\n",
       "3  441036730003  [performax, Heathered, Crew-Neck, T-shirt, cha...\n",
       "4  441128531011  [john-players-jeans, Washed, Skinny, Fit, Jean..."
      ]
     },
     "execution_count": 32,
     "metadata": {},
     "output_type": "execute_result"
    }
   ],
   "source": [
    "df.head()"
   ]
  },
  {
   "cell_type": "code",
   "execution_count": 34,
   "metadata": {},
   "outputs": [
    {
     "name": "stderr",
     "output_type": "stream",
     "text": [
      "C:\\Users\\asus\\AppData\\Local\\Temp\\ipykernel_21400\\4267108141.py:1: SettingWithCopyWarning: \n",
      "A value is trying to be set on a copy of a slice from a DataFrame.\n",
      "Try using .loc[row_indexer,col_indexer] = value instead\n",
      "\n",
      "See the caveats in the documentation: https://pandas.pydata.org/pandas-docs/stable/user_guide/indexing.html#returning-a-view-versus-a-copy\n",
      "  df['tags'] = df['tags'].apply(lambda x:\" \".join(x))\n"
     ]
    }
   ],
   "source": [
    "df['tags'] = df['tags'].apply(lambda x:\" \".join(x))"
   ]
  },
  {
   "cell_type": "code",
   "execution_count": 37,
   "metadata": {},
   "outputs": [
    {
     "name": "stderr",
     "output_type": "stream",
     "text": [
      "C:\\Users\\asus\\AppData\\Local\\Temp\\ipykernel_21400\\841579467.py:1: SettingWithCopyWarning: \n",
      "A value is trying to be set on a copy of a slice from a DataFrame.\n",
      "Try using .loc[row_indexer,col_indexer] = value instead\n",
      "\n",
      "See the caveats in the documentation: https://pandas.pydata.org/pandas-docs/stable/user_guide/indexing.html#returning-a-view-versus-a-copy\n",
      "  df['tags'] = df['tags'].apply(lambda x:x.lower())\n"
     ]
    }
   ],
   "source": [
    "df['tags'] = df['tags'].apply(lambda x:x.lower())"
   ]
  },
  {
   "cell_type": "code",
   "execution_count": 39,
   "metadata": {},
   "outputs": [
    {
     "data": {
      "text/html": [
       "<div>\n",
       "<style scoped>\n",
       "    .dataframe tbody tr th:only-of-type {\n",
       "        vertical-align: middle;\n",
       "    }\n",
       "\n",
       "    .dataframe tbody tr th {\n",
       "        vertical-align: top;\n",
       "    }\n",
       "\n",
       "    .dataframe thead th {\n",
       "        text-align: right;\n",
       "    }\n",
       "</style>\n",
       "<table border=\"1\" class=\"dataframe\">\n",
       "  <thead>\n",
       "    <tr style=\"text-align: right;\">\n",
       "      <th></th>\n",
       "      <th>Id_Product</th>\n",
       "      <th>tags</th>\n",
       "    </tr>\n",
       "  </thead>\n",
       "  <tbody>\n",
       "    <tr>\n",
       "      <th>0</th>\n",
       "      <td>441137362002</td>\n",
       "      <td>netplay checked polo t-shirt white polot-shirt</td>\n",
       "    </tr>\n",
       "    <tr>\n",
       "      <th>1</th>\n",
       "      <td>441124497006</td>\n",
       "      <td>netplay tapered fit flat-front trousers navy t...</td>\n",
       "    </tr>\n",
       "    <tr>\n",
       "      <th>2</th>\n",
       "      <td>460453612003</td>\n",
       "      <td>the-indian-garage-co striped slim fit shirt wi...</td>\n",
       "    </tr>\n",
       "    <tr>\n",
       "      <th>3</th>\n",
       "      <td>441036730003</td>\n",
       "      <td>performax heathered crew-neck t-shirt charcoal...</td>\n",
       "    </tr>\n",
       "    <tr>\n",
       "      <th>4</th>\n",
       "      <td>441128531011</td>\n",
       "      <td>john-players-jeans washed skinny fit jeans wit...</td>\n",
       "    </tr>\n",
       "  </tbody>\n",
       "</table>\n",
       "</div>"
      ],
      "text/plain": [
       "     Id_Product                                               tags\n",
       "0  441137362002     netplay checked polo t-shirt white polot-shirt\n",
       "1  441124497006  netplay tapered fit flat-front trousers navy t...\n",
       "2  460453612003  the-indian-garage-co striped slim fit shirt wi...\n",
       "3  441036730003  performax heathered crew-neck t-shirt charcoal...\n",
       "4  441128531011  john-players-jeans washed skinny fit jeans wit..."
      ]
     },
     "execution_count": 39,
     "metadata": {},
     "output_type": "execute_result"
    }
   ],
   "source": [
    "df.head()"
   ]
  },
  {
   "cell_type": "code",
   "execution_count": 42,
   "metadata": {},
   "outputs": [],
   "source": [
    "from sklearn.feature_extraction.text import CountVectorizer"
   ]
  },
  {
   "cell_type": "code",
   "execution_count": 43,
   "metadata": {},
   "outputs": [],
   "source": [
    "cv = CountVectorizer(max_features=5000,stop_words='english')"
   ]
  },
  {
   "cell_type": "code",
   "execution_count": 50,
   "metadata": {},
   "outputs": [],
   "source": [
    "vectors = cv.fit_transform(df['tags']).toarray()"
   ]
  },
  {
   "cell_type": "code",
   "execution_count": 52,
   "metadata": {},
   "outputs": [
    {
     "data": {
      "text/plain": [
       "array([0, 0, 0, ..., 0, 0, 0])"
      ]
     },
     "execution_count": 52,
     "metadata": {},
     "output_type": "execute_result"
    }
   ],
   "source": [
    "vectors[0]"
   ]
  },
  {
   "cell_type": "code",
   "execution_count": 54,
   "metadata": {},
   "outputs": [
    {
     "data": {
      "text/plain": [
       "array(['000', '0001', '0008', ..., 'zorro', 'zrn', 'zw4'], dtype=object)"
      ]
     },
     "execution_count": 54,
     "metadata": {},
     "output_type": "execute_result"
    }
   ],
   "source": [
    "cv.get_feature_names_out()"
   ]
  },
  {
   "cell_type": "code",
   "execution_count": 55,
   "metadata": {},
   "outputs": [],
   "source": [
    "import nltk"
   ]
  },
  {
   "cell_type": "code",
   "execution_count": 56,
   "metadata": {},
   "outputs": [],
   "source": [
    "from nltk.stem.porter import PorterStemmer\n",
    "ps = PorterStemmer()"
   ]
  },
  {
   "cell_type": "code",
   "execution_count": 57,
   "metadata": {},
   "outputs": [],
   "source": [
    "def stem(text):\n",
    "    y = []\n",
    "\n",
    "    for i in text.split():\n",
    "        y.append(ps.stem(i))\n",
    "\n",
    "    return \" \".join(y)"
   ]
  },
  {
   "cell_type": "code",
   "execution_count": 58,
   "metadata": {},
   "outputs": [
    {
     "data": {
      "text/plain": [
       "0             netplay check polo t-shirt white polot-shirt\n",
       "1        netplay taper fit flat-front trouser navi trouser\n",
       "2        the-indian-garage-co stripe slim fit shirt wit...\n",
       "3        performax heather crew-neck t-shirt charcoal t...\n",
       "4        john-players-jean wash skinni fit jean with wh...\n",
       "                               ...                        \n",
       "18914    louis-philipp check shirt with patch pocket wh...\n",
       "18915    brooks-broth shirt with button-down collar 55 ...\n",
       "18916    spykar albert einstein print slim fit crew-nec...\n",
       "18917    jockey print crew-neck t-shirt navyblu printed...\n",
       "18918    max typograph print jogger with elast waist bl...\n",
       "Name: tags, Length: 18919, dtype: object"
      ]
     },
     "execution_count": 58,
     "metadata": {},
     "output_type": "execute_result"
    }
   ],
   "source": [
    "df['tags'].apply(stem)"
   ]
  },
  {
   "cell_type": "code",
   "execution_count": 60,
   "metadata": {},
   "outputs": [
    {
     "data": {
      "text/plain": [
       "array([[1.        , 0.11111111, 0.31622777, ..., 0.35634832, 0.42163702,\n",
       "        0.        ],\n",
       "       [0.11111111, 1.        , 0.10540926, ..., 0.08908708, 0.        ,\n",
       "        0.        ],\n",
       "       [0.31622777, 0.10540926, 1.        , ..., 0.3380617 , 0.2       ,\n",
       "        0.        ],\n",
       "       ...,\n",
       "       [0.35634832, 0.08908708, 0.3380617 , ..., 1.        , 0.59160798,\n",
       "        0.08451543],\n",
       "       [0.42163702, 0.        , 0.2       , ..., 0.59160798, 1.        ,\n",
       "        0.        ],\n",
       "       [0.        , 0.        , 0.        , ..., 0.08451543, 0.        ,\n",
       "        1.        ]])"
      ]
     },
     "execution_count": 60,
     "metadata": {},
     "output_type": "execute_result"
    }
   ],
   "source": [
    "from sklearn.metrics.pairwise import cosine_similarity\n",
    "cosine_similarity(vectors)"
   ]
  },
  {
   "cell_type": "code",
   "execution_count": 62,
   "metadata": {},
   "outputs": [],
   "source": [
    "similarity = cosine_similarity(vectors)"
   ]
  },
  {
   "cell_type": "code",
   "execution_count": 63,
   "metadata": {},
   "outputs": [
    {
     "data": {
      "text/plain": [
       "array([1.        , 0.11111111, 0.31622777, ..., 0.35634832, 0.42163702,\n",
       "       0.        ])"
      ]
     },
     "execution_count": 63,
     "metadata": {},
     "output_type": "execute_result"
    }
   ],
   "source": [
    "similarity[0]"
   ]
  },
  {
   "cell_type": "code",
   "execution_count": 72,
   "metadata": {},
   "outputs": [
    {
     "ename": "",
     "evalue": "",
     "output_type": "error",
     "traceback": [
      "\u001b[1;31mThe Kernel crashed while executing code in the current cell or a previous cell. \n",
      "\u001b[1;31mPlease review the code in the cell(s) to identify a possible cause of the failure. \n",
      "\u001b[1;31mClick <a href='https://aka.ms/vscodeJupyterKernelCrash'>here</a> for more info. \n",
      "\u001b[1;31mView Jupyter <a href='command:jupyter.viewOutput'>log</a> for further details."
     ]
    }
   ],
   "source": [
    "import numpy as np\n",
    "\n",
    "# Save the similarity matrix to a .npy file\n",
    "np.save('similarity_matrix.npy', similarity)\n",
    "\n",
    "# To load the similarity matrix from the .npy file\n",
    "similarity = np.load('similarity_matrix.npy')\n"
   ]
  },
  {
   "cell_type": "code",
   "execution_count": 70,
   "metadata": {},
   "outputs": [],
   "source": [
    "def recommend(outfit):\n",
    "    outfit_indices = df[df['Id_Product'] == outfit].index\n",
    "\n",
    "    # If outfit is not found, print a message and return\n",
    "    if outfit_indices.empty:\n",
    "        print(f\"Outfit with Id_Product '{outfit}' not found.\")\n",
    "        return\n",
    "\n",
    "    # Get the first index of the outfit\n",
    "    outfit_index = outfit_indices[0]\n",
    "    \n",
    "    # Calculate the distances\n",
    "    distances = similarity[outfit_index]\n",
    "\n",
    "    # Get a list of tuples (index, distance), sorted by distance in descending order\n",
    "    outfits_list = sorted(list(enumerate(distances)), reverse=True, key=lambda x: x[1])[1:70]\n",
    "\n",
    "    # Print the recommended outfit indices\n",
    "    for i in outfits_list:\n",
    "        print(df.iloc[i[0]].Id_Product)\n"
   ]
  },
  {
   "cell_type": "code",
   "execution_count": 71,
   "metadata": {},
   "outputs": [
    {
     "name": "stdout",
     "output_type": "stream",
     "text": [
      "441114668001\n",
      "441128325006\n",
      "441137355005\n",
      "441137364025\n",
      "441024764004\n",
      "441120096001\n",
      "441113170001\n",
      "441117495007\n",
      "441135711005\n",
      "441120431010\n",
      "441125682001\n",
      "441120429010\n",
      "441125682006\n",
      "441118434001\n",
      "441137067015\n",
      "441114668006\n",
      "441118335004\n",
      "441128325013\n",
      "441118353002\n",
      "441137366010\n",
      "441136043004\n",
      "441024764042\n",
      "441137365015\n",
      "441024764024\n",
      "441124240001\n",
      "441136043016\n",
      "460849982002\n",
      "441115601001\n",
      "464281459004\n",
      "463543030003\n",
      "463731625001\n",
      "460996019003\n",
      "460899186004\n",
      "441120068023\n",
      "463731622006\n",
      "460793091002\n",
      "441135713013\n",
      "464301895010\n",
      "463731614005\n",
      "464281458003\n",
      "441137371008\n",
      "460968030003\n",
      "463731628006\n",
      "463731631006\n",
      "460582759002\n",
      "469080226004\n",
      "441120433006\n",
      "441126461011\n",
      "441134733019\n",
      "441134734005\n",
      "441137364003\n",
      "441128327005\n",
      "441127190003\n",
      "441120432001\n",
      "469080334005\n",
      "441134730005\n",
      "441126569006\n",
      "441024764010\n",
      "441137356001\n",
      "441024764028\n",
      "441024764055\n",
      "441024764036\n",
      "441024764049\n",
      "461561319003\n",
      "441136044004\n",
      "441137367006\n",
      "441135322006\n",
      "441136044019\n",
      "441137360007\n"
     ]
    }
   ],
   "source": [
    "recommend(441137362002)"
   ]
  }
 ],
 "metadata": {
  "kernelspec": {
   "display_name": "Python 3",
   "language": "python",
   "name": "python3"
  },
  "language_info": {
   "codemirror_mode": {
    "name": "ipython",
    "version": 3
   },
   "file_extension": ".py",
   "mimetype": "text/x-python",
   "name": "python",
   "nbconvert_exporter": "python",
   "pygments_lexer": "ipython3",
   "version": "3.12.4"
  }
 },
 "nbformat": 4,
 "nbformat_minor": 2
}
